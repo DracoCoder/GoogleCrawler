{
 "cells": [
  {
   "cell_type": "code",
   "execution_count": 87,
   "id": "1046f763",
   "metadata": {},
   "outputs": [],
   "source": [
    "import requests\n",
    "from bs4 import BeautifulSoup\n",
    "\n",
    "from tqdm import tqdm"
   ]
  },
  {
   "cell_type": "code",
   "execution_count": 93,
   "id": "3350f6fd",
   "metadata": {},
   "outputs": [],
   "source": [
    "def google_search(query, num_results=10):\n",
    "    \n",
    "    results = []\n",
    "    \n",
    "    url = f\"https://www.google.com/search?q={query.replace(' ', '+')}\"\n",
    "    headers = {'User-Agent': 'Mozilla/4.0 (Windows NT 10.0;Win64) AppleWebkit/537.36 (KHTML, like Gecko) Chrome/89.0.4389.82 Safari/537.36'}\n",
    "    page = 0\n",
    "    position=0\n",
    "    \n",
    "    total_results=0\n",
    "\n",
    "    while (total_results < num_results):\n",
    "        response = requests.get(url, headers=headers, params={'start': page * 10})\n",
    "        \n",
    "        \n",
    "        if(response.status_code==200):\n",
    "            soup = BeautifulSoup(response.text, 'html.parser')\n",
    "\n",
    "            page_results = soup.find_all(\"div\",{\"class\":\"g\"})\n",
    "            total_results+= len(page_results)\n",
    "\n",
    "    #         print(len(page_results))\n",
    "\n",
    "            for result in page_results:\n",
    "\n",
    "                l={}\n",
    "                link = result.find('a').get('href')\n",
    "    #             print(link)\n",
    "\n",
    "                if(link is not None):\n",
    "\n",
    "                    if(link.find('https://www.youtube.com/c/') != -1):\n",
    "                        l[\"Index\"]=position\n",
    "                        position+=1\n",
    "\n",
    "                        l[\"URL\"]=link\n",
    "\n",
    "                        try:\n",
    "                            l[\"Title\"]=result.find('h3').text\n",
    "                        except:\n",
    "                            l[\"Title\"]=None \n",
    "\n",
    "                        results.append(l)\n",
    "\n",
    "                    else:\n",
    "                        continue \n",
    "\n",
    "                else:\n",
    "                    continue\n",
    "\n",
    "            page += 1\n",
    "    #         print(total_results)\n",
    "        else:\n",
    "            print(response.status_code)\n",
    "            break\n",
    "\n",
    "\n",
    "    return results"
   ]
  },
  {
   "cell_type": "code",
   "execution_count": 94,
   "id": "9fa3a5c7",
   "metadata": {},
   "outputs": [],
   "source": [
    "# Example usage\n",
    "search_query = \"site:youtube.com openinapp.co\"\n",
    "total_results = 100\n",
    "\n",
    "search_results = google_search(search_query, num_results=total_results)"
   ]
  },
  {
   "cell_type": "code",
   "execution_count": 95,
   "id": "c5ee7495",
   "metadata": {},
   "outputs": [
    {
     "data": {
      "text/plain": [
       "[{'Index': 0,\n",
       "  'URL': 'https://www.youtube.com/c/OpeninApp',\n",
       "  'Title': 'OpeninApp'},\n",
       " {'Index': 1,\n",
       "  'URL': 'https://www.youtube.com/c/TheCrazySk/community',\n",
       "  'Title': 'Thecrazysk'},\n",
       " {'Index': 2,\n",
       "  'URL': 'https://www.youtube.com/c/TradingwithGroww',\n",
       "  'Title': 'Trading with Groww'},\n",
       " {'Index': 3,\n",
       "  'URL': 'https://www.youtube.com/c/OpeninApp/featured',\n",
       "  'Title': 'OpeninApp'}]"
      ]
     },
     "execution_count": 95,
     "metadata": {},
     "output_type": "execute_result"
    }
   ],
   "source": [
    "search_results"
   ]
  },
  {
   "cell_type": "code",
   "execution_count": 96,
   "id": "e4f2b138",
   "metadata": {},
   "outputs": [
    {
     "data": {
      "text/html": [
       "<div>\n",
       "<style scoped>\n",
       "    .dataframe tbody tr th:only-of-type {\n",
       "        vertical-align: middle;\n",
       "    }\n",
       "\n",
       "    .dataframe tbody tr th {\n",
       "        vertical-align: top;\n",
       "    }\n",
       "\n",
       "    .dataframe thead th {\n",
       "        text-align: right;\n",
       "    }\n",
       "</style>\n",
       "<table border=\"1\" class=\"dataframe\">\n",
       "  <thead>\n",
       "    <tr style=\"text-align: right;\">\n",
       "      <th></th>\n",
       "      <th>Index</th>\n",
       "      <th>URL</th>\n",
       "      <th>Title</th>\n",
       "    </tr>\n",
       "  </thead>\n",
       "  <tbody>\n",
       "    <tr>\n",
       "      <th>0</th>\n",
       "      <td>0</td>\n",
       "      <td>https://www.youtube.com/c/OpeninApp</td>\n",
       "      <td>OpeninApp</td>\n",
       "    </tr>\n",
       "    <tr>\n",
       "      <th>1</th>\n",
       "      <td>1</td>\n",
       "      <td>https://www.youtube.com/c/TheCrazySk/community</td>\n",
       "      <td>Thecrazysk</td>\n",
       "    </tr>\n",
       "    <tr>\n",
       "      <th>2</th>\n",
       "      <td>2</td>\n",
       "      <td>https://www.youtube.com/c/TradingwithGroww</td>\n",
       "      <td>Trading with Groww</td>\n",
       "    </tr>\n",
       "    <tr>\n",
       "      <th>3</th>\n",
       "      <td>3</td>\n",
       "      <td>https://www.youtube.com/c/OpeninApp/featured</td>\n",
       "      <td>OpeninApp</td>\n",
       "    </tr>\n",
       "  </tbody>\n",
       "</table>\n",
       "</div>"
      ],
      "text/plain": [
       "   Index                                             URL               Title\n",
       "0      0             https://www.youtube.com/c/OpeninApp           OpeninApp\n",
       "1      1  https://www.youtube.com/c/TheCrazySk/community          Thecrazysk\n",
       "2      2      https://www.youtube.com/c/TradingwithGroww  Trading with Groww\n",
       "3      3    https://www.youtube.com/c/OpeninApp/featured           OpeninApp"
      ]
     },
     "execution_count": 96,
     "metadata": {},
     "output_type": "execute_result"
    }
   ],
   "source": [
    "import pandas as pd\n",
    "\n",
    "df = pd.DataFrame(search_results)\n",
    "df.head()"
   ]
  },
  {
   "cell_type": "code",
   "execution_count": 97,
   "id": "32623873",
   "metadata": {},
   "outputs": [],
   "source": [
    "# df.to_csv(\"./CSV Results/results.csv\", index=False)"
   ]
  },
  {
   "cell_type": "code",
   "execution_count": null,
   "id": "06ad178f",
   "metadata": {},
   "outputs": [],
   "source": []
  }
 ],
 "metadata": {
  "kernelspec": {
   "display_name": "Python 3 (ipykernel)",
   "language": "python",
   "name": "python3"
  },
  "language_info": {
   "codemirror_mode": {
    "name": "ipython",
    "version": 3
   },
   "file_extension": ".py",
   "mimetype": "text/x-python",
   "name": "python",
   "nbconvert_exporter": "python",
   "pygments_lexer": "ipython3",
   "version": "3.10.9"
  }
 },
 "nbformat": 4,
 "nbformat_minor": 5
}
